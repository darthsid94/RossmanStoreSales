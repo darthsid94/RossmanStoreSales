{
 "cells": [
  {
   "cell_type": "code",
   "execution_count": 14,
   "metadata": {},
   "outputs": [],
   "source": [
    "#Importing the common EDA libraries\n",
    "import pandas as pd\n",
    "import seaborn as sns\n",
    "import matplotlib.pyplot as plt\n",
    "from datetime import datetime\n",
    "sns.set()"
   ]
  },
  {
   "cell_type": "markdown",
   "metadata": {},
   "source": [
    "Exploratory data analysis, as the term suggests entails exploring data wherein summary statistics of the data are obtained.\n",
    "As per the problem statement of Rossman Store Sales,\"Rossmann store managers are tasked with predicting their daily sales  for up to six weeks in advance. Store sales are influenced by many factors, including promotions, competition, school and \n",
    "state holidays, seasonality, and locality.\"\n",
    "For the purpose of EDA, we'll look at two files: train.csv and store.csv\n",
    "First let's look at train.csv"
   ]
  },
  {
   "cell_type": "code",
   "execution_count": 15,
   "metadata": {},
   "outputs": [
    {
     "name": "stderr",
     "output_type": "stream",
     "text": [
      "C:\\Users\\Siddharth\\Anaconda3\\lib\\site-packages\\IPython\\core\\interactiveshell.py:3058: DtypeWarning: Columns (7) have mixed types. Specify dtype option on import or set low_memory=False.\n",
      "  interactivity=interactivity, compiler=compiler, result=result)\n"
     ]
    },
    {
     "name": "stdout",
     "output_type": "stream",
     "text": [
      "   Store  DayOfWeek        Date  Sales  Customers  Open  Promo StateHoliday  \\\n",
      "0      1          5  2015-07-31   5263        555     1      1            0   \n",
      "1      2          5  2015-07-31   6064        625     1      1            0   \n",
      "2      3          5  2015-07-31   8314        821     1      1            0   \n",
      "3      4          5  2015-07-31  13995       1498     1      1            0   \n",
      "4      5          5  2015-07-31   4822        559     1      1            0   \n",
      "\n",
      "   SchoolHoliday  \n",
      "0              1  \n",
      "1              1  \n",
      "2              1  \n",
      "3              1  \n",
      "4              1  \n"
     ]
    }
   ],
   "source": [
    "train=pd.read_csv('train.csv')       #importing the file\n",
    "print(train.head())                  #first five rows of the data "
   ]
  },
  {
   "cell_type": "markdown",
   "metadata": {},
   "source": [
    "After having a first look at the data, one would proceed to form a hypothsis about it, which may not necessarily be correct \n",
    "These are tested for correctness during the course of the EDA exercise.\n",
    "For this particular data, following hypothesis is formed:\n",
    "    1. Sales would be weak on the weekends when the stores are mostly closed.\n",
    "    2. Sales and Customers would be linearly related. More Customers, more sales.\n",
    "    3. More sales on days on which promo is available.\n",
    "    4. More sales expected on the days on which there is state/school holiday, but the store is open."
   ]
  },
  {
   "cell_type": "code",
   "execution_count": 16,
   "metadata": {},
   "outputs": [
    {
     "name": "stdout",
     "output_type": "stream",
     "text": [
      "      StoreType Assortment  CompetitionDistance  CompetitionOpenSinceMonth  \\\n",
      "Store                                                                        \n",
      "1             c          a               1270.0                        9.0   \n",
      "2             a          a                570.0                       11.0   \n",
      "3             a          a              14130.0                       12.0   \n",
      "4             c          c                620.0                        9.0   \n",
      "5             a          a              29910.0                        4.0   \n",
      "\n",
      "       CompetitionOpenSinceYear  Promo2  Promo2SinceWeek  Promo2SinceYear  \\\n",
      "Store                                                                       \n",
      "1                        2008.0       0              NaN              NaN   \n",
      "2                        2007.0       1             13.0           2010.0   \n",
      "3                        2006.0       1             14.0           2011.0   \n",
      "4                        2009.0       0              NaN              NaN   \n",
      "5                        2015.0       0              NaN              NaN   \n",
      "\n",
      "         PromoInterval  \n",
      "Store                   \n",
      "1                  NaN  \n",
      "2      Jan,Apr,Jul,Oct  \n",
      "3      Jan,Apr,Jul,Oct  \n",
      "4                  NaN  \n",
      "5                  NaN  \n"
     ]
    }
   ],
   "source": [
    "# Let's now look at store.csv and update our hypothesis based on observations in the data in this file\n",
    "store=pd.read_csv('store.csv',parse_dates=True,index_col=0)\n",
    "print(store.head())"
   ]
  },
  {
   "cell_type": "markdown",
   "metadata": {},
   "source": [
    "Hypothesis is as follows:\n",
    "    1. Sales should increase with increase in competition distance\n",
    "    2. Sales before the opening of competitor should be more than that after opening.\n",
    "    3. Months in which promo2 is available should see more sales\n",
    "    4. Sales before promo2 became availabe should be less than that after.\n",
    "\n",
    "Additionally, it would be interesting to analyse sales with respect to the store and assortment type.\n",
    "\n",
    "Identification of variables is an important part of EDA. We will claasify our variables on the basis of whether they are \n",
    "exploratory(independent) or respone(dependent). Variable can further be quantitative or categorical.\n",
    "In this case, clearly, 'Sales' is the respone variable and it is quantitative.\n",
    "Let's check the data types of the variables and the categories into which they fit."
   ]
  },
  {
   "cell_type": "code",
   "execution_count": 17,
   "metadata": {},
   "outputs": [
    {
     "name": "stdout",
     "output_type": "stream",
     "text": [
      "<class 'pandas.core.frame.DataFrame'>\n",
      "RangeIndex: 1017209 entries, 0 to 1017208\n",
      "Data columns (total 9 columns):\n",
      "Store            1017209 non-null int64\n",
      "DayOfWeek        1017209 non-null int64\n",
      "Date             1017209 non-null object\n",
      "Sales            1017209 non-null int64\n",
      "Customers        1017209 non-null int64\n",
      "Open             1017209 non-null int64\n",
      "Promo            1017209 non-null int64\n",
      "StateHoliday     1017209 non-null object\n",
      "SchoolHoliday    1017209 non-null int64\n",
      "dtypes: int64(7), object(2)\n",
      "memory usage: 69.8+ MB\n",
      "None\n",
      "<class 'pandas.core.frame.DataFrame'>\n",
      "Int64Index: 1115 entries, 1 to 1115\n",
      "Data columns (total 9 columns):\n",
      "StoreType                    1115 non-null object\n",
      "Assortment                   1115 non-null object\n",
      "CompetitionDistance          1112 non-null float64\n",
      "CompetitionOpenSinceMonth    761 non-null float64\n",
      "CompetitionOpenSinceYear     761 non-null float64\n",
      "Promo2                       1115 non-null int64\n",
      "Promo2SinceWeek              571 non-null float64\n",
      "Promo2SinceYear              571 non-null float64\n",
      "PromoInterval                571 non-null object\n",
      "dtypes: float64(5), int64(1), object(3)\n",
      "memory usage: 87.1+ KB\n",
      "None\n"
     ]
    }
   ],
   "source": [
    "print(train.info())\n",
    "print(store.info())"
   ]
  },
  {
   "cell_type": "code",
   "execution_count": 18,
   "metadata": {},
   "outputs": [],
   "source": [
    "# Store                        : Categorical   Explanatory\n",
    "# DayOfWeek                    : Categorical   Explanatory\n",
    "# Date                         : Categorical   Explanatory\n",
    "# Sales                        : Quantitative  Response\n",
    "# Customers                    : Quantitative  Response\n",
    "# Open                         : Categorical   Explanatory\n",
    "# Promo                        : Categorical   Explanatory\n",
    "# StateHoliday                 : Categorical   Explanatory\n",
    "# SchoolHoliday                : Categorical   Explanatory\n",
    "\n",
    "# StoreType                    : Categorical   Explanatory\n",
    "# Assortment                   : Categorical   Explanatory\n",
    "# CompetitionDistance          : Quantitative  Explanatory  \n",
    "# CompetitionOpenSinceMonth    : Categorical   Explanatory\n",
    "# CompetitionOpenSinceYear     : Categorical   Explanatory\n",
    "# Promo2                       : Categorical   Explanatory\n",
    "# Promo2SinceWeek              : Categorical   Explanatory\n",
    "# Promo2SinceYear              : Categorical   Explanatory\n",
    "# PromoInterval                : Categorical   Explanatory"
   ]
  },
  {
   "cell_type": "markdown",
   "metadata": {},
   "source": [
    "Univariate Analysis: We will consider one variable at a time\n",
    "For quantitative variables, we are interested in the distribution. We will make use of histograms, box plots\n",
    "For categorical variables, we will make use of bar charts and pie charts to see their distribution"
   ]
  },
  {
   "cell_type": "code",
   "execution_count": 19,
   "metadata": {
    "scrolled": true
   },
   "outputs": [
    {
     "data": {
      "image/png": "[encoded data removed]",
      "text/plain": [
       "<Figure size 432x288 with 1 Axes>"
      ]
     },
     "metadata": {},
     "output_type": "display_data"
    }
   ],
   "source": [
    "# Let's consider store type\n",
    "fig, ax = plt.subplots()\n",
    "ax.bar(store.index,store['StoreType'])\n",
    "plt.show()"
   ]
  },
  {
   "cell_type": "code",
   "execution_count": 20,
   "metadata": {},
   "outputs": [
    {
     "name": "stderr",
     "output_type": "stream",
     "text": [
      "C:\\Users\\Siddharth\\Anaconda3\\lib\\site-packages\\numpy\\lib\\histograms.py:824: RuntimeWarning: invalid value encountered in greater_equal\n",
      "  keep = (tmp_a >= first_edge)\n",
      "C:\\Users\\Siddharth\\Anaconda3\\lib\\site-packages\\numpy\\lib\\histograms.py:825: RuntimeWarning: invalid value encountered in less_equal\n",
      "  keep &= (tmp_a <= last_edge)\n"
     ]
    },
    {
     "data": {
      "image/png": "[encoded data removed]",
      "text/plain": [
       "<Figure size 432x288 with 1 Axes>"
      ]
     },
     "metadata": {},
     "output_type": "display_data"
    }
   ],
   "source": [
    "# Quantitative variables\n",
    "# Frequency distribution of sales, customers and CompetitionDistance\n",
    "plt.hist(store['CompetitionDistance'],bins=20)\n",
    "plt.show()"
   ]
  },
  {
   "cell_type": "code",
   "execution_count": 21,
   "metadata": {},
   "outputs": [
    {
     "data": {
      "image/png": "[encoded data removed]",
      "text/plain": [
       "<Figure size 432x288 with 1 Axes>"
      ]
     },
     "metadata": {},
     "output_type": "display_data"
    }
   ],
   "source": [
    "# Grouping sales by store to see store-wise sales distribution\n",
    "sales_grouped=train.groupby(['Store'])['Sales'].sum()\n",
    "plt.hist(sales_grouped,bins=20)\n",
    "plt.show()"
   ]
  },
  {
   "cell_type": "code",
   "execution_count": 22,
   "metadata": {
    "scrolled": false
   },
   "outputs": [
    {
     "name": "stdout",
     "output_type": "stream",
     "text": [
      "count    1.115000e+03\n",
      "mean     5.267427e+06\n",
      "std      1.951304e+06\n",
      "min      2.114322e+06\n",
      "25%      3.949377e+06\n",
      "50%      4.990259e+06\n",
      "75%      6.084148e+06\n",
      "max      1.951684e+07\n",
      "Name: Sales, dtype: float64\n"
     ]
    }
   ],
   "source": [
    "print(sales_grouped.describe())"
   ]
  },
  {
   "cell_type": "code",
   "execution_count": 23,
   "metadata": {},
   "outputs": [
    {
     "name": "stdout",
     "output_type": "stream",
     "text": [
      "Index(['Store', 'DayOfWeek', 'Date', 'Sales', 'Customers', 'Open', 'Promo',\n",
      "       'StateHoliday', 'SchoolHoliday', 'month', 'weekday'],\n",
      "      dtype='object')\n"
     ]
    }
   ],
   "source": [
    "train['Date']=pd.to_datetime(train['Date'])\n",
    "train['month']=train['Date'].dt.strftime('%b')\n",
    "train['weekday']=train['Date'].dt.strftime('%a')\n",
    "print(train.columns)"
   ]
  },
  {
   "cell_type": "code",
   "execution_count": 24,
   "metadata": {},
   "outputs": [
    {
     "data": {
      "text/plain": [
       "<matplotlib.axes._subplots.AxesSubplot at 0x1154e3af148>"
      ]
     },
     "execution_count": 24,
     "metadata": {},
     "output_type": "execute_result"
    },
    {
     "data": {
      "image/png": "[encoded data removed]",
      "text/plain": [
       "<Figure size 432x288 with 1 Axes>"
      ]
     },
     "metadata": {},
     "output_type": "display_data"
    }
   ],
   "source": [
    "# Bivariate Analysis: We'll now consider two variables at a time\n",
    "#C --> Q\n",
    "sns.boxplot(x=train['month'],y=train['Sales'])"
   ]
  },
  {
   "cell_type": "code",
   "execution_count": 25,
   "metadata": {},
   "outputs": [
    {
     "data": {
      "text/plain": [
       "<matplotlib.axes._subplots.AxesSubplot at 0x11549e99388>"
      ]
     },
     "execution_count": 25,
     "metadata": {},
     "output_type": "execute_result"
    },
    {
     "data": {
      "image/png": "[encoded data removed]",
      "text/plain": [
       "<Figure size 432x288 with 1 Axes>"
      ]
     },
     "metadata": {},
     "output_type": "display_data"
    }
   ],
   "source": [
    "# December appears to have the highest median sales but there is larger variation. Also January median and IQR are significantly\n",
    "# lower than those of December\n",
    "sns.boxplot(x=train['weekday'],y=train['Sales'])"
   ]
  },
  {
   "cell_type": "markdown",
   "metadata": {},
   "source": [
    "There are virtually no sales on Sunday, whereas sales values on Saturday are significantly lower than other days.\n",
    "Also Monday has highest median sales, but larger IQR too."
   ]
  }
 ],
 "metadata": {
  "kernelspec": {
   "display_name": "Python 3",
   "language": "python",
   "name": "python3"
  },
  "language_info": {
   "codemirror_mode": {
    "name": "ipython",
    "version": 3
   },
   "file_extension": ".py",
   "mimetype": "text/x-python",
   "name": "python",
   "nbconvert_exporter": "python",
   "pygments_lexer": "ipython3",
   "version": "3.7.4"
  }
 },
 "nbformat": 4,
 "nbformat_minor": 2
}
